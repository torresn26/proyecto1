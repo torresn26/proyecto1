{
 "cells": [
  {
   "cell_type": "code",
   "execution_count": 2,
   "metadata": {},
   "outputs": [],
   "source": [
    "from fastapi import FastAPI\n"
   ]
  },
  {
   "cell_type": "code",
   "execution_count": 3,
   "metadata": {},
   "outputs": [],
   "source": [
    "app = FastAPI()"
   ]
  },
  {
   "cell_type": "code",
   "execution_count": 5,
   "metadata": {},
   "outputs": [],
   "source": [
    "# Paso 3: Definir las rutas y métodos HTTP\n",
    "@app.get(\"/hello\")\n",
    "def hello_world():\n",
    "    return {\"message\": \"Hello, World!\"}"
   ]
  },
  {
   "cell_type": "code",
   "execution_count": 6,
   "metadata": {},
   "outputs": [],
   "source": [
    "# Paso 4: Definir los parámetros de entrada\n",
    "@app.get(\"/saludo/{nombre}\")\n",
    "def saludar(nombre: str):\n",
    "    return {\"message\": f\"Hola, {nombre}!\"}"
   ]
  },
  {
   "cell_type": "code",
   "execution_count": 7,
   "metadata": {},
   "outputs": [],
   "source": [
    "# Paso 5: Agregar funciones para procesar las solicitudes\n",
    "@app.post(\"/agregar-juego\")\n",
    "def agregar_juego(juego: dict):\n",
    "    # Aquí puedes agregar la lógica para agregar un juego a tu base de datos\n",
    "    return {\"message\": \"Juego agregado con éxito\"}"
   ]
  },
  {
   "cell_type": "code",
   "execution_count": null,
   "metadata": {},
   "outputs": [],
   "source": [
    "\n"
   ]
  }
 ],
 "metadata": {
  "kernelspec": {
   "display_name": "Python 3",
   "language": "python",
   "name": "python3"
  },
  "language_info": {
   "codemirror_mode": {
    "name": "ipython",
    "version": 3
   },
   "file_extension": ".py",
   "mimetype": "text/x-python",
   "name": "python",
   "nbconvert_exporter": "python",
   "pygments_lexer": "ipython3",
   "version": "3.11.5"
  },
  "orig_nbformat": 4
 },
 "nbformat": 4,
 "nbformat_minor": 2
}
